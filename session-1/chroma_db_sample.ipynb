{
  "nbformat": 4,
  "nbformat_minor": 0,
  "metadata": {
    "colab": {
      "provenance": []
    },
    "kernelspec": {
      "name": "python3",
      "display_name": "Python 3"
    },
    "language_info": {
      "name": "python"
    }
  },
  "cells": [
    {
      "cell_type": "code",
      "execution_count": null,
      "metadata": {
        "id": "13kboDMdxpWh"
      },
      "outputs": [],
      "source": [
        "!pip install chromadb"
      ]
    },
    {
      "cell_type": "code",
      "source": [
        "from pydantic import BaseModel\n",
        "from typing import List\n",
        "import chromadb\n",
        "from chromadb.config import Settings\n",
        "\n",
        "class DocumentEntry(BaseModel):\n",
        "    id: str\n",
        "    document: str\n",
        "    source: str\n",
        "\n",
        "client = chromadb.PersistentClient(path=\"/content/chroma_db\", settings=Settings(anonymized_telemetry=False))\n",
        "collection = client.create_collection(\"numericite-demo\")\n",
        "\n",
        "documents = [\n",
        "    DocumentEntry(id=\"id1\", document=\"The quick brown fox jumps over the lazy dog.\", source=\"proverb\"),\n",
        "    DocumentEntry(id=\"id2\", document=\"E=mc² is a famous equation in physics.\", source=\"physics textbook\"),\n",
        "    DocumentEntry(id=\"id3\", document=\"To be or not to be, that is the question.\", source=\"Shakespeare's Hamlet\"),\n",
        "    DocumentEntry(id=\"id4\", document=\"Python is a versatile programming language.\", source=\"programming guide\"),\n",
        "    DocumentEntry(id=\"id5\", document=\"The capital of France is Paris.\", source=\"geography book\"),\n",
        "    DocumentEntry(id=\"id6\", document=\"Photosynthesis is the process by which plants make their food.\", source=\"biology textbook\"),\n",
        "    DocumentEntry(id=\"id7\", document=\"The Mona Lisa is a renowned painting by Leonardo da Vinci.\", source=\"art history book\"),\n",
        "    DocumentEntry(id=\"id8\", document=\"Mount Everest is the highest mountain in the world.\", source=\"geography book\"),\n",
        "    DocumentEntry(id=\"id9\", document=\"The theory of evolution was proposed by Charles Darwin.\", source=\"biology textbook\"),\n",
        "    DocumentEntry(id=\"id10\", document=\"In 1492, Columbus sailed the ocean blue.\", source=\"history book\"),\n",
        "]\n",
        "\n",
        "collection.add(\n",
        "    documents=[doc.document for doc in documents],\n",
        "    metadatas=[{\"source\": doc.source} for doc in documents],\n",
        "    ids=[doc.id for doc in documents]\n",
        ")"
      ],
      "metadata": {
        "id": "D6YLbVaQyFG3",
        "colab": {
          "base_uri": "https://localhost:8080/"
        },
        "outputId": "a644b802-ce5b-4e84-a16f-0555750e3164"
      },
      "execution_count": null,
      "outputs": [
        {
          "output_type": "stream",
          "name": "stderr",
          "text": [
            "/root/.cache/chroma/onnx_models/all-MiniLM-L6-v2/onnx.tar.gz: 100%|██████████| 79.3M/79.3M [00:02<00:00, 37.2MiB/s]\n"
          ]
        }
      ]
    },
    {
      "cell_type": "code",
      "source": [
        "from typing import List, Tuple\n",
        "def query(query_text: str, n_results: int = 1) -> List[Tuple[DocumentEntry, float]]:\n",
        "    results = collection.query(\n",
        "        query_texts=[query_text],\n",
        "        n_results=n_results,\n",
        "        include=['documents', 'distances']\n",
        "    )\n",
        "\n",
        "    retrieved_ids = results.get(\"ids\", [[]])[0]\n",
        "    retrieved_distances = results.get(\"distances\", [[]])[0]\n",
        "\n",
        "    # Create a list of tuples with (document, similarity_score)\n",
        "    retrieved_documents_with_scores = [\n",
        "        (doc, retrieved_distances[retrieved_ids.index(doc.id)])\n",
        "        for doc in documents\n",
        "        if doc.id in retrieved_ids\n",
        "    ]\n",
        "\n",
        "    # Sort by similarity score (ascending)\n",
        "    retrieved_documents_with_scores.sort(key=lambda x: x[1])\n",
        "\n",
        "    return retrieved_documents_with_scores\n",
        "\n",
        "for doc, score in query(\"Discovery of america\", 3):\n",
        "    print(f\"Document: {doc}\")\n",
        "    print(f\"Similarity Score: {score}\")\n",
        "    print(\"---\")"
      ],
      "metadata": {
        "id": "GvVUvCJqyZCB",
        "colab": {
          "base_uri": "https://localhost:8080/"
        },
        "outputId": "2b31169d-e906-4498-d03d-b9b554f1663c"
      },
      "execution_count": null,
      "outputs": [
        {
          "output_type": "stream",
          "name": "stdout",
          "text": [
            "Document: id='id10' document='In 1492, Columbus sailed the ocean blue.' source='history book'\n",
            "Similarity Score: 1.2723906923882786\n",
            "---\n",
            "Document: id='id9' document='The theory of evolution was proposed by Charles Darwin.' source='biology textbook'\n",
            "Similarity Score: 1.3659229855718953\n",
            "---\n",
            "Document: id='id7' document='The Mona Lisa is a renowned painting by Leonardo da Vinci.' source='art history book'\n",
            "Similarity Score: 1.7510504626183678\n",
            "---\n"
          ]
        }
      ]
    }
  ]
}