{
  "nbformat": 4,
  "nbformat_minor": 0,
  "metadata": {
    "colab": {
      "provenance": []
    },
    "kernelspec": {
      "name": "python3",
      "display_name": "Python 3"
    },
    "language_info": {
      "name": "python"
    }
  },
  "cells": [
    {
      "cell_type": "code",
      "execution_count": null,
      "metadata": {
        "colab": {
          "base_uri": "https://localhost:8080/"
        },
        "id": "SPkP1qDD5SB_",
        "outputId": "39278f0a-3a21-407d-ff78-b39190698d2a"
      },
      "outputs": [
        {
          "output_type": "stream",
          "name": "stdout",
          "text": [
            "Requirement already satisfied: numpy==1.24.3 in /usr/local/lib/python3.11/dist-packages (1.24.3)\n",
            "Requirement already satisfied: gensim in /usr/local/lib/python3.11/dist-packages (4.3.3)\n",
            "Requirement already satisfied: scipy<1.14.0,>=1.7.0 in /usr/local/lib/python3.11/dist-packages (from gensim) (1.13.1)\n",
            "Requirement already satisfied: smart-open>=1.8.1 in /usr/local/lib/python3.11/dist-packages (from gensim) (7.1.0)\n",
            "Requirement already satisfied: wrapt in /usr/local/lib/python3.11/dist-packages (from smart-open>=1.8.1->gensim) (1.17.2)\n",
            "[==================================================] 100.0% 128.1/128.1MB downloaded\n"
          ]
        }
      ],
      "source": [
        "!pip install numpy==1.24.3 gensim\n",
        "\n",
        "import gensim.downloader as api\n",
        "\n",
        "model = api.load('glove-wiki-gigaword-100')\n"
      ]
    },
    {
      "cell_type": "code",
      "source": [
        "def print_similarity(word1, word2):\n",
        "  similarity = model.similarity(word1, word2)\n",
        "  print(f\"Similarity between '{word1}' and '{word2}': {similarity:.4f}\")\n",
        "\n",
        "print_similarity(\"cat\", \"dog\")\n",
        "print_similarity(\"cat\", \"car\")\n"
      ],
      "metadata": {
        "colab": {
          "base_uri": "https://localhost:8080/"
        },
        "id": "Lj79rM1mHHzu",
        "outputId": "b0a88b62-0b1a-43eb-db5c-f2807a80ab05"
      },
      "execution_count": null,
      "outputs": [
        {
          "output_type": "stream",
          "name": "stdout",
          "text": [
            "Similarity between 'cat' and 'dog': 0.8798\n",
            "Similarity between 'cat' and 'car': 0.3110\n"
          ]
        }
      ]
    },
    {
      "cell_type": "code",
      "source": [
        "def show_analogy(positive, negative, expected=None):\n",
        "    print(f\"{' + '.join(positive)} - {' - '.join(negative)} = ?\\n\")\n",
        "    result = model.most_similar(positive=positive, negative=negative, topn=5)\n",
        "    for word, score in result:\n",
        "        print(f\"{word}: {score:.4f}\")\n",
        "\n",
        "    if expected and expected in model:\n",
        "        top_words = [word for word, _ in result]\n",
        "        if expected in top_words:\n",
        "            rank = top_words.index(expected) + 1\n",
        "            print(f\"\\n✓ '{expected}' found at rank {rank}\")\n",
        "        else:\n",
        "            similarity = model.similarity(result[0][0], expected)\n",
        "            print(f\"\\nExpected '{expected}' (similarity to top result: {similarity:.4f})\")\n",
        "\n",
        "show_analogy(positive=[\"king\", \"woman\"], negative=[\"man\"], expected=\"queen\")\n",
        "# show_analogy(positive=[\"paris\", \"italy\"], negative=[\"france\"], expected=\"\")\n",
        "# show_analogy(positive=[\"dollar\", \"europe\"], negative=[\"america\"], expected=\"\")\n"
      ],
      "metadata": {
        "colab": {
          "base_uri": "https://localhost:8080/"
        },
        "id": "T90HWGFm7qM6",
        "outputId": "cdfb6d58-d405-4ea4-bd6d-0f4000663430"
      },
      "execution_count": null,
      "outputs": [
        {
          "output_type": "stream",
          "name": "stdout",
          "text": [
            "king + woman - man = ?\n",
            "\n",
            "queen: 0.7699\n",
            "monarch: 0.6843\n",
            "throne: 0.6756\n",
            "daughter: 0.6595\n",
            "princess: 0.6521\n",
            "\n",
            "✓ 'queen' found at rank 1\n"
          ]
        }
      ]
    }
  ]
}